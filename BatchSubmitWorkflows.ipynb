{
 "cells": [
  {
   "cell_type": "code",
   "execution_count": 5,
   "metadata": {},
   "outputs": [
    {
     "name": "stdout",
     "output_type": "stream",
     "text": [
      "Requirement already satisfied: terra-notebook-utils in ./.local/lib/python3.8/site-packages (0.13.0)\n",
      "Requirement already satisfied: jmespath==0.10.0 in ./.local/lib/python3.8/site-packages (from terra-notebook-utils) (0.10.0)\n",
      "Requirement already satisfied: oauth2client in ./.local/lib/python3.8/site-packages (from terra-notebook-utils) (4.1.3)\n",
      "Requirement already satisfied: cli-builder<0.2,>=0.1.5 in ./.local/lib/python3.8/site-packages (from terra-notebook-utils) (0.1.5)\n",
      "Requirement already satisfied: bgzip<0.4,>=0.3.5 in ./.local/lib/python3.8/site-packages (from terra-notebook-utils) (0.3.5)\n",
      "Requirement already satisfied: jsonschema in /anaconda/envs/py38_default/lib/python3.8/site-packages (from terra-notebook-utils) (4.16.0)\n",
      "Requirement already satisfied: getm<0.1.0,>=0.0.4 in ./.local/lib/python3.8/site-packages (from terra-notebook-utils) (0.0.5)\n",
      "Requirement already satisfied: azure-identity<2,>=1.12.0 in ./.local/lib/python3.8/site-packages (from terra-notebook-utils) (1.15.0)\n",
      "Requirement already satisfied: gs-chunked-io<0.6,>=0.5.1 in ./.local/lib/python3.8/site-packages (from terra-notebook-utils) (0.5.2)\n",
      "Requirement already satisfied: google-cloud-storage<2,>=1.38.0 in ./.local/lib/python3.8/site-packages (from terra-notebook-utils) (1.44.0)\n",
      "Requirement already satisfied: firecloud in ./.local/lib/python3.8/site-packages (from terra-notebook-utils) (0.16.36)\n",
      "Requirement already satisfied: msal-extensions<2.0.0,>=0.3.0 in ./.local/lib/python3.8/site-packages (from azure-identity<2,>=1.12.0->terra-notebook-utils) (1.1.0)\n",
      "Requirement already satisfied: cryptography>=2.5 in /anaconda/envs/py38_default/lib/python3.8/site-packages (from azure-identity<2,>=1.12.0->terra-notebook-utils) (38.0.1)\n",
      "Requirement already satisfied: msal<2.0.0,>=1.24.0 in ./.local/lib/python3.8/site-packages (from azure-identity<2,>=1.12.0->terra-notebook-utils) (1.27.0)\n",
      "Requirement already satisfied: azure-core<2.0.0,>=1.23.0 in /anaconda/envs/py38_default/lib/python3.8/site-packages (from azure-identity<2,>=1.12.0->terra-notebook-utils) (1.26.1)\n",
      "Requirement already satisfied: google-crc32c in ./.local/lib/python3.8/site-packages (from getm<0.1.0,>=0.0.4->terra-notebook-utils) (1.5.0)\n",
      "Requirement already satisfied: requests<2.30.0 in /anaconda/envs/py38_default/lib/python3.8/site-packages (from getm<0.1.0,>=0.0.4->terra-notebook-utils) (2.28.1)\n",
      "Requirement already satisfied: google-auth<3.0dev,>=1.25.0 in /anaconda/envs/py38_default/lib/python3.8/site-packages (from google-cloud-storage<2,>=1.38.0->terra-notebook-utils) (2.15.0)\n",
      "Requirement already satisfied: six in /anaconda/envs/py38_default/lib/python3.8/site-packages (from google-cloud-storage<2,>=1.38.0->terra-notebook-utils) (1.16.0)\n",
      "Requirement already satisfied: google-cloud-core<3.0dev,>=1.6.0 in ./.local/lib/python3.8/site-packages (from google-cloud-storage<2,>=1.38.0->terra-notebook-utils) (2.4.1)\n",
      "Requirement already satisfied: google-api-core<3.0dev,>=1.29.0 in ./.local/lib/python3.8/site-packages (from google-cloud-storage<2,>=1.38.0->terra-notebook-utils) (2.17.1)\n",
      "Requirement already satisfied: protobuf in /anaconda/envs/py38_default/lib/python3.8/site-packages (from google-cloud-storage<2,>=1.38.0->terra-notebook-utils) (3.19.6)\n",
      "Requirement already satisfied: google-resumable-media<3.0dev,>=1.3.0 in ./.local/lib/python3.8/site-packages (from google-cloud-storage<2,>=1.38.0->terra-notebook-utils) (2.7.0)\n",
      "Requirement already satisfied: setuptools>=40.3.0 in /anaconda/envs/py38_default/lib/python3.8/site-packages (from firecloud->terra-notebook-utils) (65.5.0)\n",
      "Requirement already satisfied: nose in /anaconda/envs/py38_default/lib/python3.8/site-packages (from firecloud->terra-notebook-utils) (1.3.7)\n",
      "Requirement already satisfied: pylint>=1.9.5 in ./.local/lib/python3.8/site-packages (from firecloud->terra-notebook-utils) (3.1.0)\n",
      "Requirement already satisfied: pydot in ./.local/lib/python3.8/site-packages (from firecloud->terra-notebook-utils) (2.0.0)\n",
      "Requirement already satisfied: pkgutil-resolve-name>=1.3.10 in /anaconda/envs/py38_default/lib/python3.8/site-packages (from jsonschema->terra-notebook-utils) (1.3.10)\n",
      "Requirement already satisfied: attrs>=17.4.0 in /anaconda/envs/py38_default/lib/python3.8/site-packages (from jsonschema->terra-notebook-utils) (22.1.0)\n",
      "Requirement already satisfied: importlib-resources>=1.4.0 in /anaconda/envs/py38_default/lib/python3.8/site-packages (from jsonschema->terra-notebook-utils) (5.2.0)\n",
      "Requirement already satisfied: pyrsistent!=0.17.0,!=0.17.1,!=0.17.2,>=0.14.0 in /anaconda/envs/py38_default/lib/python3.8/site-packages (from jsonschema->terra-notebook-utils) (0.18.0)\n",
      "Requirement already satisfied: rsa>=3.1.4 in /anaconda/envs/py38_default/lib/python3.8/site-packages (from oauth2client->terra-notebook-utils) (4.9)\n",
      "Requirement already satisfied: pyasn1-modules>=0.0.5 in /anaconda/envs/py38_default/lib/python3.8/site-packages (from oauth2client->terra-notebook-utils) (0.2.8)\n",
      "Requirement already satisfied: pyasn1>=0.1.7 in /anaconda/envs/py38_default/lib/python3.8/site-packages (from oauth2client->terra-notebook-utils) (0.4.8)\n",
      "Requirement already satisfied: httplib2>=0.9.1 in ./.local/lib/python3.8/site-packages (from oauth2client->terra-notebook-utils) (0.22.0)\n",
      "Requirement already satisfied: typing-extensions>=4.0.1 in /anaconda/envs/py38_default/lib/python3.8/site-packages (from azure-core<2.0.0,>=1.23.0->azure-identity<2,>=1.12.0->terra-notebook-utils) (4.4.0)\n",
      "Requirement already satisfied: cffi>=1.12 in /anaconda/envs/py38_default/lib/python3.8/site-packages (from cryptography>=2.5->azure-identity<2,>=1.12.0->terra-notebook-utils) (1.15.1)\n",
      "Requirement already satisfied: googleapis-common-protos<2.0.dev0,>=1.56.2 in ./.local/lib/python3.8/site-packages (from google-api-core<3.0dev,>=1.29.0->google-cloud-storage<2,>=1.38.0->terra-notebook-utils) (1.62.0)\n",
      "Requirement already satisfied: cachetools<6.0,>=2.0.0 in /anaconda/envs/py38_default/lib/python3.8/site-packages (from google-auth<3.0dev,>=1.25.0->google-cloud-storage<2,>=1.38.0->terra-notebook-utils) (5.2.0)\n",
      "Requirement already satisfied: pyparsing!=3.0.0,!=3.0.1,!=3.0.2,!=3.0.3,<4,>=2.4.2 in /anaconda/envs/py38_default/lib/python3.8/site-packages (from httplib2>=0.9.1->oauth2client->terra-notebook-utils) (3.0.9)\n",
      "Requirement already satisfied: zipp>=3.1.0 in /anaconda/envs/py38_default/lib/python3.8/site-packages (from importlib-resources>=1.4.0->jsonschema->terra-notebook-utils) (3.8.0)\n",
      "Requirement already satisfied: PyJWT[crypto]<3,>=1.0.0 in /anaconda/envs/py38_default/lib/python3.8/site-packages (from msal<2.0.0,>=1.24.0->azure-identity<2,>=1.12.0->terra-notebook-utils) (2.6.0)\n",
      "Requirement already satisfied: portalocker<3,>=1.0 in ./.local/lib/python3.8/site-packages (from msal-extensions<2.0.0,>=0.3.0->azure-identity<2,>=1.12.0->terra-notebook-utils) (2.8.2)\n",
      "Requirement already satisfied: packaging in /anaconda/envs/py38_default/lib/python3.8/site-packages (from msal-extensions<2.0.0,>=0.3.0->azure-identity<2,>=1.12.0->terra-notebook-utils) (21.3)\n",
      "Requirement already satisfied: isort!=5.13.0,<6,>=4.2.5 in ./.local/lib/python3.8/site-packages (from pylint>=1.9.5->firecloud->terra-notebook-utils) (5.13.2)\n",
      "Requirement already satisfied: dill>=0.2 in ./.local/lib/python3.8/site-packages (from pylint>=1.9.5->firecloud->terra-notebook-utils) (0.3.8)\n",
      "Requirement already satisfied: astroid<=3.2.0-dev0,>=3.1.0 in ./.local/lib/python3.8/site-packages (from pylint>=1.9.5->firecloud->terra-notebook-utils) (3.1.0)\n",
      "Requirement already satisfied: platformdirs>=2.2.0 in ./.local/lib/python3.8/site-packages (from pylint>=1.9.5->firecloud->terra-notebook-utils) (4.2.0)\n",
      "Requirement already satisfied: tomli>=1.1.0 in /anaconda/envs/py38_default/lib/python3.8/site-packages (from pylint>=1.9.5->firecloud->terra-notebook-utils) (2.0.1)\n",
      "Requirement already satisfied: tomlkit>=0.10.1 in ./.local/lib/python3.8/site-packages (from pylint>=1.9.5->firecloud->terra-notebook-utils) (0.12.3)\n",
      "Requirement already satisfied: mccabe<0.8,>=0.6 in ./.local/lib/python3.8/site-packages (from pylint>=1.9.5->firecloud->terra-notebook-utils) (0.7.0)\n",
      "Requirement already satisfied: urllib3<1.27,>=1.21.1 in /anaconda/envs/py38_default/lib/python3.8/site-packages (from requests<2.30.0->getm<0.1.0,>=0.0.4->terra-notebook-utils) (1.26.13)\n",
      "Requirement already satisfied: certifi>=2017.4.17 in /anaconda/envs/py38_default/lib/python3.8/site-packages (from requests<2.30.0->getm<0.1.0,>=0.0.4->terra-notebook-utils) (2022.12.7)\n",
      "Requirement already satisfied: idna<4,>=2.5 in /anaconda/envs/py38_default/lib/python3.8/site-packages (from requests<2.30.0->getm<0.1.0,>=0.0.4->terra-notebook-utils) (3.4)\n",
      "Requirement already satisfied: charset-normalizer<3,>=2 in /anaconda/envs/py38_default/lib/python3.8/site-packages (from requests<2.30.0->getm<0.1.0,>=0.0.4->terra-notebook-utils) (2.0.4)\n",
      "Requirement already satisfied: pycparser in /anaconda/envs/py38_default/lib/python3.8/site-packages (from cffi>=1.12->cryptography>=2.5->azure-identity<2,>=1.12.0->terra-notebook-utils) (2.21)\n"
     ]
    }
   ],
   "source": [
    "%%bash\n",
    "pip install terra-notebook-utils --user"
   ]
  },
  {
   "cell_type": "code",
   "execution_count": 7,
   "metadata": {},
   "outputs": [],
   "source": [
    "#Restart the kernal after running the above command, then continue from the cell below."
   ]
  },
  {
   "cell_type": "code",
   "execution_count": 21,
   "metadata": {
    "tags": []
   },
   "outputs": [],
   "source": [
    "import os\n",
    "import requests\n",
    "from terra_notebook_utils import azure_auth"
   ]
  },
  {
   "cell_type": "code",
   "execution_count": 42,
   "metadata": {
    "tags": []
   },
   "outputs": [],
   "source": [
    "DOMAIN = 'dsde-prod.broadinstitute.org'\n",
    "LEO_BASE_URL = f'https://leonardo.{DOMAIN}/api/apps/v2'\n",
    "WORKSPACE_ID = os.environ['WORKSPACE_ID']\n",
    "\n",
    "def add_to_beginning(s, start='id_'):\n",
    "    return start + str(s)\n",
    "\n",
    "def get_token():\n",
    "    \"\"\"Get Azure access token\"\"\"\n",
    "    #Get this string from devtools -> disks?role... -> Headers -> Authorization: Bearer\n",
    "    return \"eyJhbGciOiJSUzI1NiIsImtpZCI6IlotT2t3M2Y2bmloQjJkaHJ4Y3ZvNEVGM2pLVkp6REZQamJ3VWJOcFZlbzAiLCJ0eXAiOiJKV1QifQ.eyJlbWFpbCI6Im1zaGFuZEBicm9hZGluc3RpdHV0ZS5vcmciLCJnaXZlbl9uYW1lIjoiTWVnYW4iLCJmYW1pbHlfbmFtZSI6IlNoYW5kIiwibmFtZSI6Ik1lZ2FuIFNoYW5kIiwiaWRwIjoiZ29vZ2xlLmNvbSIsImlkcF9hY2Nlc3NfdG9rZW4iOiJ5YTI5LmEwQWZCX2J5RGVtSTBZZjl5RG9ib0o4TUItYXJ5VlA2dEtKMWhTdFBPbkV2Vnluc0xHclJILWhzcE42YUNBejV5bXRpemJ4bkpxYkw1YnQxbm1kQUdpSVdTM3hmX1JxbUx6TF9tNjFPR2IzLS00a25mdW5qcVEwbE9kZzJXTF9GS0w0eVRpVHhJcnI1T0VUQTREanBwSVYtaDk5UFZEVnN5ZFZmTlA3SkJSUXlOcGFDZ1lLQVZZU0FSRVNGUUhHWDJNaTJsQ05rblpxTE1fN19qT1Jsei1qeUEwMTc5IiwiZ29vZ2xlX2lkIjoiMTE3OTUxMjU2Nzc4MTcxNDg5MTg1IiwicGljdHVyZSI6Imh0dHBzOi8vbGgzLmdvb2dsZXVzZXJjb250ZW50LmNvbS9hL0FDZzhvY0xnOGhza2pKa0pETjJZTU4xMnpyZ0tfdEJIcTNUOF9uQS1nV1dTVS01ST1zOTYtYyIsImVtYWlsX3ZlcmlmaWVkIjp0cnVlLCJzdWIiOiI5NWI5M2M5YS02MDZiLTRhNjktYjk2Ni0yYmJjYzFmMmY2NGMiLCJ0aWQiOiIzNWVhNWRlOS0xNzg2LTRiYmItODljZi0yNWI4ODI2MTY0M2QiLCJhenAiOiI0YWVmYzRhYy1kNWJlLTQ0NDAtYWU5YS1hZWZlNGNlYjA5OGMiLCJ2ZXIiOiIxLjAiLCJpYXQiOjE3MDg5ODE0MDUsImF1ZCI6IjRhZWZjNGFjLWQ1YmUtNDQ0MC1hZTlhLWFlZmU0Y2ViMDk4YyIsImV4cCI6MTcwODk4NTAwNSwiaXNzIjoiaHR0cHM6Ly90ZXJyYXByb2RiMmMuYjJjbG9naW4uY29tLzM1ZWE1ZGU5LTE3ODYtNGJiYi04OWNmLTI1Yjg4MjYxNjQzZC92Mi4wLyIsIm5iZiI6MTcwODk4MTQwNX0.mQSB7iLROI75H_L6RiloXqL7zr_3ivcYjjbvPfeniSjmnThslFLYLTnm3m9B7mAFJcNdP8gDQpTyq8SnaPSKtJsA795xvwUvpugMKHsXmo2uowrA6s-Cm6L82_WjU-frg36kZuxiStXVelhrTGRzZSPv7V6R-VBD-4F0IwmnFh7m6OfrV7vDnkz2hA6tBgDxTa84Rx7Vi0ce1uKDgRO7oVYbMUxh_I4tShY1mh1l-nBFCB6QXQcZaO50MIJGYos4R7OVq2AkQhsFRN8b70_Nx6nV9hMUOUfDim_ax0l7g8-3YhOihECXDOTzONVr7PYaoDBTmd6NuIMh0BQCu7X82w\"\n",
    "\n",
    "def headers():\n",
    "    return {\n",
    "        \"Authorization\": f\"Bearer {get_token()}\",\n",
    "        \"Accept\": \"application/json\"\n",
    "    }\n",
    "\n",
    "def get_cbas_url():\n",
    "    \"\"\"Get url for CBAS\"\"\"\n",
    "    uri = f\"{LEO_BASE_URL}/{WORKSPACE_ID}?includeDeleted=false\"\n",
    "    response = requests.get(uri, headers=headers())\n",
    "    status_code = response.status_code\n",
    "    if status_code != 200:\n",
    "        return response.text\n",
    "    response_json = response.json()\n",
    "    for item in response_json:\n",
    "        if item['appType'] == 'WORKFLOWS_APP':\n",
    "            return item['proxyUrls']['cbas']\n",
    "    return json.loads(response.text)['proxyUrls']['wds']\n",
    "\n",
    "def get_post_data(start, end):\n",
    "    return {\n",
    "  \"run_set_name\": f\"SingleSample_{start}-{end}\",\n",
    "  \"run_set_description\": \"\",\n",
    "  \"method_version_id\": \"bd5f599d-e7df-44d1-9488-5fcc9b59e72b\",\n",
    "  \"workflow_input_definitions\": [\n",
    "    {\n",
    "      \"input_name\": \"SingleSamplePipeline.name\",\n",
    "      \"input_type\": {\n",
    "        \"type\": \"primitive\",\n",
    "        \"primitive_type\": \"String\"\n",
    "      },\n",
    "      \"source\": {\n",
    "        \"type\": \"record_lookup\",\n",
    "        \"record_attribute\": \"test_type_id\"\n",
    "      }\n",
    "    },\n",
    "    {\n",
    "      \"input_name\": \"SingleSamplePipeline.value\",\n",
    "      \"input_type\": {\n",
    "        \"type\": \"primitive\",\n",
    "        \"primitive_type\": \"Int\"\n",
    "      },\n",
    "      \"source\": {\n",
    "        \"type\": \"record_lookup\",\n",
    "        \"record_attribute\": \"input_value\"\n",
    "      }\n",
    "    }\n",
    "  ],\n",
    "  \"workflow_output_definitions\": [\n",
    "    {\n",
    "      \"output_name\": \"SingleSamplePipeline.out\",\n",
    "      \"output_type\": {\n",
    "        \"type\": \"primitive\",\n",
    "        \"primitive_type\": \"File\"\n",
    "      },\n",
    "      \"destination\": {\n",
    "        \"type\": \"record_update\",\n",
    "        \"record_attribute\": \"out_file\"\n",
    "      }\n",
    "    }\n",
    "  ],\n",
    "  \"wds_records\": {\n",
    "    \"record_type\": \"test_type\",\n",
    "    \"record_ids\": list(map(add_to_beginning, range(start,end))),\n",
    "  },\n",
    "  \"call_caching_enabled\": True\n",
    "}\n",
    "\n",
    "def submit_to_cbas(cbas_url, body):\n",
    "    uri = f\"{cbas_url}/api/batch/v1/run_sets\"\n",
    "    response = requests.post(uri, json=body, headers=headers())\n",
    "    status_code = response.status_code\n",
    "    if status_code != 200:\n",
    "        raise Exception(response.text)\n",
    "    return response.json()\n",
    "    "
   ]
  },
  {
   "cell_type": "code",
   "execution_count": 43,
   "metadata": {
    "tags": []
   },
   "outputs": [],
   "source": [
    "batch = 10\n",
    "start = 10\n",
    "end = 100"
   ]
  },
  {
   "cell_type": "code",
   "execution_count": 44,
   "metadata": {
    "tags": []
   },
   "outputs": [
    {
     "name": "stdout",
     "output_type": "stream",
     "text": [
      "Submitting batch 10..19\n",
      "Submitting batch 20..29\n",
      "Submitting batch 30..39\n",
      "Submitting batch 40..49\n",
      "Submitting batch 50..59\n",
      "Submitting batch 60..69\n",
      "Submitting batch 70..79\n",
      "Submitting batch 80..89\n",
      "Submitting batch 90..99\n",
      "Done\n"
     ]
    }
   ],
   "source": [
    "cbas_url = get_cbas_url()\n",
    "i = start\n",
    "while i < end:\n",
    "    print(f\"Submitting batch {i}..{i+batch-1}\")\n",
    "    data = get_post_data(i, i+batch)\n",
    "    submit_to_cbas(cbas_url, data)\n",
    "    i = i + batch\n",
    "print(\"Done\")\n",
    "    "
   ]
  },
  {
   "cell_type": "code",
   "execution_count": null,
   "metadata": {
    "tags": []
   },
   "outputs": [],
   "source": []
  },
  {
   "cell_type": "code",
   "execution_count": null,
   "metadata": {},
   "outputs": [],
   "source": []
  },
  {
   "cell_type": "code",
   "execution_count": null,
   "metadata": {},
   "outputs": [],
   "source": []
  }
 ],
 "metadata": {
  "kernelspec": {
   "display_name": "Python 3 (ipykernel)",
   "language": "python",
   "name": "python3"
  },
  "language_info": {
   "codemirror_mode": {
    "name": "ipython",
    "version": 3
   },
   "file_extension": ".py",
   "mimetype": "text/x-python",
   "name": "python",
   "nbconvert_exporter": "python",
   "pygments_lexer": "ipython3",
   "version": "3.8.15"
  }
 },
 "nbformat": 4,
 "nbformat_minor": 4
}
